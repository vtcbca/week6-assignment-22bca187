{
 "cells": [
  {
   "cell_type": "code",
   "execution_count": 1,
   "id": "32185f9c-cba1-448e-8961-314990a9dd54",
   "metadata": {},
   "outputs": [],
   "source": [
    "import pandas as pd"
   ]
  },
  {
   "cell_type": "code",
   "execution_count": 2,
   "id": "fc890075-d9dd-49f0-a2b5-be31f3bf88f5",
   "metadata": {},
   "outputs": [],
   "source": [
    "# 1. Create a result table\n",
    "data = {\n",
    "    'Student ID': [],\n",
    "    'Student Name': [],\n",
    "    'Subject 1': [],\n",
    "    'Subject 2': [],\n",
    "    'Subject 3': [],\n",
    "    'Subject 4': [],\n",
    "    'Subject 5': [],\n",
    "}\n"
   ]
  },
  {
   "cell_type": "code",
   "execution_count": 11,
   "id": "8da09a92-ef1c-4898-bfd9-108984f4b518",
   "metadata": {},
   "outputs": [
    {
     "name": "stdin",
     "output_type": "stream",
     "text": [
      "Enter Student ID:  1\n",
      "Enter Student Name:  om\n",
      "Enter marks for Subject 1:  50\n",
      "Enter marks for Subject 2:  80\n",
      "Enter marks for Subject 3:  70\n",
      "Enter marks for Subject 4:  60\n",
      "Enter marks for Subject 5:  65\n",
      "Enter Student ID:  2\n",
      "Enter Student Name:  sai\n",
      "Enter marks for Subject 1:  40\n",
      "Enter marks for Subject 2:  80\n",
      "Enter marks for Subject 3:  70\n",
      "Enter marks for Subject 4:  60\n",
      "Enter marks for Subject 5:  65\n",
      "Enter Student ID:  3\n",
      "Enter Student Name:  ram\n",
      "Enter marks for Subject 1:  56\n",
      "Enter marks for Subject 2:  45\n",
      "Enter marks for Subject 3:  54\n",
      "Enter marks for Subject 4:  65\n",
      "Enter marks for Subject 5:  55\n",
      "Enter Student ID:  4\n",
      "Enter Student Name:  radha\n",
      "Enter marks for Subject 1:  40\n",
      "Enter marks for Subject 2:  76\n",
      "Enter marks for Subject 3:  65\n",
      "Enter marks for Subject 4:  67\n",
      "Enter marks for Subject 5:  76\n",
      "Enter Student ID:  5\n",
      "Enter Student Name:  krishna\n",
      "Enter marks for Subject 1:  54\n",
      "Enter marks for Subject 2:  45\n",
      "Enter marks for Subject 3:  76\n",
      "Enter marks for Subject 4:  67\n",
      "Enter marks for Subject 5:  65\n",
      "Enter Student ID:  6\n",
      "Enter Student Name:  jiya\n",
      "Enter marks for Subject 1:  76\n",
      "Enter marks for Subject 2:  80\n",
      "Enter marks for Subject 3:  70\n",
      "Enter marks for Subject 4:  60\n",
      "Enter marks for Subject 5:  57\n",
      "Enter Student ID:  7\n",
      "Enter Student Name:  piya\n",
      "Enter marks for Subject 1:  56\n",
      "Enter marks for Subject 2:  76\n",
      "Enter marks for Subject 3:  80\n",
      "Enter marks for Subject 4:  76\n",
      "Enter marks for Subject 5:  54\n",
      "Enter Student ID:  8\n",
      "Enter Student Name:  siya\n",
      "Enter marks for Subject 1:  45\n",
      "Enter marks for Subject 2:  54\n",
      "Enter marks for Subject 3:  64\n",
      "Enter marks for Subject 4:  65\n",
      "Enter marks for Subject 5:  60\n",
      "Enter Student ID:  9\n",
      "Enter Student Name:  piyu\n",
      "Enter marks for Subject 1:  56\n",
      "Enter marks for Subject 2:  76\n",
      "Enter marks for Subject 3:  67\n",
      "Enter marks for Subject 4:  80\n",
      "Enter marks for Subject 5:  54\n",
      "Enter Student ID:  10\n",
      "Enter Student Name:  jeni\n",
      "Enter marks for Subject 1:  65\n",
      "Enter marks for Subject 2:  67\n",
      "Enter marks for Subject 3:  65\n",
      "Enter marks for Subject 4:  89\n",
      "Enter marks for Subject 5:  54\n"
     ]
    }
   ],
   "source": [
    "# 2. Enter 10 student details with marks\n",
    "for j in range(10):\n",
    "    student_id = input(\"Enter Student ID: \")\n",
    "    student_name = input(\"Enter Student Name: \")\n",
    "    marks = [int(input(f\"Enter marks for Subject {i + 1}: \")) for i in range(5)]\n",
    "    \n",
    "    data['Student ID'].append(student_id)\n",
    "    data['Student Name'].append(student_name)\n",
    "    data['Subject 1'].append(marks[0])\n",
    "    data['Subject 2'].append(marks[1])\n",
    "    data['Subject 3'].append(marks[2])\n",
    "    data['Subject 4'].append(marks[3])\n",
    "    data['Subject 5'].append(marks[4])\n"
   ]
  },
  {
   "cell_type": "code",
   "execution_count": 12,
   "id": "ea9e27a2-3d2e-4d79-807f-0abf7ac8269e",
   "metadata": {},
   "outputs": [],
   "source": [
    "# 3. Dump table into CSV file \"result.csv\"\n",
    "df = pd.DataFrame(data)\n",
    "df.to_csv('result.csv', index=False)\n"
   ]
  },
  {
   "cell_type": "code",
   "execution_count": 13,
   "id": "2a694caf-2270-4593-820f-6f25bf0f64a1",
   "metadata": {},
   "outputs": [],
   "source": [
    "# 4. Read result.csv file and print Total Marks and Grade of each student\n",
    "df = pd.read_csv('result.csv')\n",
    "\n",
    "def calculate_total_marks(row):\n",
    "    return sum(row[2:7])\n",
    "\n",
    "def calculate_grade(total_marks):\n",
    "    if total_marks >= 400:\n",
    "        return 'A+'\n",
    "    elif total_marks >= 350:\n",
    "        return 'A'\n",
    "    elif total_marks >= 300:\n",
    "        return 'B'\n",
    "    else:\n",
    "        return 'C'\n",
    "\n",
    "df['Total Marks'] = df.apply(calculate_total_marks, axis=1)\n",
    "df['Grade'] = df['Total Marks'].apply(calculate_grade)\n",
    "\n",
    "df.to_csv('result.csv', index=False)"
   ]
  },
  {
   "cell_type": "code",
   "execution_count": 15,
   "id": "d3f0e115-9470-4aeb-8b00-46a3d03c76d3",
   "metadata": {},
   "outputs": [
    {
     "name": "stdout",
     "output_type": "stream",
     "text": [
      "\n",
      "Top 3 Students:\n",
      "    Student ID Student Name  Percentage\n",
      "9            6         jiya        68.6\n",
      "10           7         piya        68.4\n",
      "13          10         jeni        68.0\n"
     ]
    }
   ],
   "source": [
    "# 5. List out Top 3 Student ID and name with its percentage\n",
    "df['Percentage'] = (df['Total Marks'] / 500) * 100\n",
    "top_3_students = df.nlargest(3, 'Percentage')[['Student ID', 'Student Name', 'Percentage']]\n",
    "\n",
    "print(\"\\nTop 3 Students:\")\n",
    "print(top_3_students)"
   ]
  },
  {
   "cell_type": "code",
   "execution_count": null,
   "id": "53ef2419-1865-4106-b2b1-0639fd30a949",
   "metadata": {},
   "outputs": [],
   "source": []
  }
 ],
 "metadata": {
  "kernelspec": {
   "display_name": "Python 3 (ipykernel)",
   "language": "python",
   "name": "python3"
  },
  "language_info": {
   "codemirror_mode": {
    "name": "ipython",
    "version": 3
   },
   "file_extension": ".py",
   "mimetype": "text/x-python",
   "name": "python",
   "nbconvert_exporter": "python",
   "pygments_lexer": "ipython3",
   "version": "3.11.4"
  }
 },
 "nbformat": 4,
 "nbformat_minor": 5
}
