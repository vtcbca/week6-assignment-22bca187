{
 "cells": [
  {
   "cell_type": "code",
   "execution_count": 9,
   "id": "ae642b3f-84ef-4673-967a-7acfdd5858cd",
   "metadata": {},
   "outputs": [
    {
     "name": "stdout",
     "output_type": "stream",
     "text": [
      "The popularity of Python is growing rapidly. Now it's one of the most popular programming languages.\n",
      "\n",
      "Python allows you to write programs in fewer lines of code than most of the programming languages.\n",
      "\n",
      "Python has a lot of applications. It's used for developing web applications, data science, rapid application development, and so on.\n",
      "\n",
      "Python is easy to learn. Its syntax is easy and code is very readable.\n",
      "\n",
      "Why Learn Python?\n",
      "\n",
      "This makes Python a great language to learn for beginners.\n",
      "\n",
      "Fortunately for beginners, Python has a simple, easy-to-use syntax. \n",
      "\n",
      "It is used in machine learning, web development, desktop applications, and many other fields. \n",
      "\n",
      "It was created by Guido van Rossum, and released in 1991.\n",
      "\n",
      "Python is a popular general-purpose programming language.\n",
      "\n"
     ]
    }
   ],
   "source": [
    "#Program 1: Read Python.txt file and Print it in Reverse.\n",
    "with open('C:\\\\Users\\\\PRITESH\\\\Desktop\\\\python.txt', 'r', newline='') as file:\n",
    "     lines = file.readlines()\n",
    "    \n",
    "# Print the lines in reverse order\n",
    "for line in reversed(lines):\n",
    "    print(line) \n"
   ]
  },
  {
   "cell_type": "code",
   "execution_count": 11,
   "id": "a47c9e6f-91c3-4d43-acfb-3b8f8b6245b5",
   "metadata": {},
   "outputs": [
    {
     "name": "stdout",
     "output_type": "stream",
     "text": [
      "Total number of lines: 10\n",
      "Total number of words: 121\n"
     ]
    }
   ],
   "source": [
    "#Program 2: Read Python.txt file and Print total number of lines and words in it.\n",
    "# Open the file for reading\n",
    "with open('C:\\\\Users\\\\PRITESH\\\\Desktop\\\\python.txt', \"r\",newline='') as file:\n",
    "    lines = file.readlines()\n",
    "numberlines = len(lines)\n",
    "total_words = 0\n",
    "for line in lines:\n",
    "    words = line.split()  \n",
    "    total_words += len(words)\n",
    "\n",
    "print(\"Total number of lines:\", numberlines)\n",
    "print(\"Total number of words:\", total_words)\n"
   ]
  },
  {
   "cell_type": "code",
   "execution_count": 21,
   "id": "229d3de3-52a4-4b04-8881-c2b4179a5f99",
   "metadata": {},
   "outputs": [
    {
     "name": "stdout",
     "output_type": "stream",
     "text": [
      "total unique words: 121\n",
      "unique word are: ['Python', 'is', 'a', 'popular', 'general-purpose', 'programming', 'language.', 'It', 'was', 'created', 'by', 'Guido', 'van', 'Rossum,', 'and', 'released', 'in', '1991.', 'It', 'is', 'used', 'in', 'machine', 'learning,', 'web', 'development,', 'desktop', 'applications,', 'and', 'many', 'other', 'fields.', 'Fortunately', 'for', 'beginners,', 'Python', 'has', 'a', 'simple,', 'easy-to-use', 'syntax.', 'This', 'makes', 'Python', 'a', 'great', 'language', 'to', 'learn', 'for', 'beginners.', 'Why', 'Learn', 'Python?', 'Python', 'is', 'easy', 'to', 'learn.', 'Its', 'syntax', 'is', 'easy', 'and', 'code', 'is', 'very', 'readable.', 'Python', 'has', 'a', 'lot', 'of', 'applications.', \"It's\", 'used', 'for', 'developing', 'web', 'applications,', 'data', 'science,', 'rapid', 'application', 'development,', 'and', 'so', 'on.', 'Python', 'allows', 'you', 'to', 'write', 'programs', 'in', 'fewer', 'lines', 'of', 'code', 'than', 'most', 'of', 'the', 'programming', 'languages.', 'The', 'popularity', 'of', 'Python', 'is', 'growing', 'rapidly.', 'Now', \"it's\", 'one', 'of', 'the', 'most', 'popular', 'programming', 'languages.']\n"
     ]
    }
   ],
   "source": [
    "#Program 3: Read Python.txt file and Print unique word with its count.\n",
    "with open('C:\\\\Users\\\\PRITESH\\\\Desktop\\\\python.txt', \"r\",newline='') as file:\n",
    "    content = file.read()\n",
    "uniqueword_count=0\n",
    "word=set(line.split())\n",
    "print(\"total unique words:\",len(words))\n",
    "print(\"unique word are:\",words)\n"
   ]
  },
  {
   "cell_type": "code",
   "execution_count": 23,
   "id": "8be52597-c447-4d3b-a004-91b0110f6195",
   "metadata": {},
   "outputs": [
    {
     "name": "stdout",
     "output_type": "stream",
     "text": [
      "largest word: general-purpose\n",
      "smallest word: a\n"
     ]
    }
   ],
   "source": [
    "#Program 4: Read Python.txt file and Print largest and smallest word from it.\n",
    "with open('C:\\\\Users\\\\PRITESH\\\\Desktop\\\\python.txt', \"r\",newline='') as file:\n",
    "    line=file.read()\n",
    "    words=line.split()\n",
    "    largest=small=words[0]\n",
    "    for i in range(0,len(words)):\n",
    "        if (len(largest)<len(words[i])):\n",
    "            largest=words[i]\n",
    "        elif(len(small)>len(words[i])):\n",
    "             small=words[i]\n",
    "print(\"largest word:\",largest)\n",
    "print(\"smallest word:\",small)\n",
    "    "
   ]
  },
  {
   "cell_type": "code",
   "execution_count": 28,
   "id": "05b470f6-dbbb-4a28-ad97-48b8d424cc3a",
   "metadata": {},
   "outputs": [],
   "source": [
    "#Program 5 Read Python.txt file. Convert it into upper case and write into another file \"Python_Upper.txt\"\n",
    "file='C:\\\\Users\\\\PRITESH\\\\Desktop\\\\python.txt'\n",
    "f='C:\\\\Users\\\\PRITESH\\\\Desktop\\\\python_upper.txt'\n",
    "with open(file,\"r\")as text_file:\n",
    "    data=text_file.read()\n",
    "upper=data.upper()\n",
    "with open(f,\"w\") as txt:\n",
    "    text=txt.write(upper)\n",
    "\n"
   ]
  },
  {
   "cell_type": "code",
   "execution_count": null,
   "id": "9cc1d407-6d30-47e3-80e2-c95bbf69feac",
   "metadata": {},
   "outputs": [],
   "source": []
  }
 ],
 "metadata": {
  "kernelspec": {
   "display_name": "Python 3 (ipykernel)",
   "language": "python",
   "name": "python3"
  },
  "language_info": {
   "codemirror_mode": {
    "name": "ipython",
    "version": 3
   },
   "file_extension": ".py",
   "mimetype": "text/x-python",
   "name": "python",
   "nbconvert_exporter": "python",
   "pygments_lexer": "ipython3",
   "version": "3.11.4"
  }
 },
 "nbformat": 4,
 "nbformat_minor": 5
}
